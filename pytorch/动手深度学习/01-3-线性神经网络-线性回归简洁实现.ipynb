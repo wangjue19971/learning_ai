{
 "cells": [
  {
   "cell_type": "markdown",
   "metadata": {},
   "source": [
    "生成数据集"
   ]
  },
  {
   "cell_type": "code",
   "execution_count": 1,
   "metadata": {},
   "outputs": [],
   "source": [
    "import numpy as np\n",
    "import torch\n",
    "from torch.utils import data\n",
    "from d2l import torch as d2l\n",
    "\n",
    "true_w = torch.tensor([2, -3.4])\n",
    "true_b = 4.2\n",
    "features, labels = d2l.synthetic_data(true_w, true_b, 1000)"
   ]
  },
  {
   "cell_type": "markdown",
   "metadata": {},
   "source": [
    "读取数据集"
   ]
  },
  {
   "cell_type": "code",
   "execution_count": 3,
   "metadata": {},
   "outputs": [],
   "source": [
    "def load_array(data_arrays, batch_size, is_train=True):\n",
    "    # 从输入的数据数组创建一个TensorDataset\n",
    "    dataset = data.TensorDataset(*data_arrays)\n",
    "    # 从数据集创建一个DataLoader，指定批大小和是否对数据进行洗牌\n",
    "    return data.DataLoader(dataset, batch_size, shuffle=is_train)\n",
    "\n",
    "batch_size = 10\n",
    "data_iter = load_array((features, labels), batch_size)"
   ]
  },
  {
   "cell_type": "code",
   "execution_count": 4,
   "metadata": {},
   "outputs": [
    {
     "data": {
      "text/plain": [
       "[tensor([[ 0.5719,  0.1627],\n",
       "         [-0.5686, -0.9131],\n",
       "         [ 0.3946, -1.4151],\n",
       "         [ 1.2960, -0.1900],\n",
       "         [ 0.0283,  2.3903],\n",
       "         [-1.0119, -0.2863],\n",
       "         [ 0.0640,  0.8131],\n",
       "         [ 1.0008, -1.2552],\n",
       "         [-0.0968, -0.3116],\n",
       "         [ 0.0832,  0.7505]]),\n",
       " tensor([[ 4.8031],\n",
       "         [ 6.1508],\n",
       "         [ 9.8065],\n",
       "         [ 7.4251],\n",
       "         [-3.8660],\n",
       "         [ 3.1588],\n",
       "         [ 1.5505],\n",
       "         [10.4798],\n",
       "         [ 5.0904],\n",
       "         [ 1.8156]])]"
      ]
     },
     "execution_count": 4,
     "metadata": {},
     "output_type": "execute_result"
    }
   ],
   "source": [
    "next(iter(data_iter))"
   ]
  },
  {
   "cell_type": "markdown",
   "metadata": {},
   "source": [
    "这段代码调用了Python内置函数[`next()`](command:_github.copilot.openSymbolFromReferences?%5B%7B%22%24mid%22%3A1%2C%22external%22%3A%22file%3A%2F%2F%2FUsers%2Fwangjue%2F.vscode%2Fextensions%2Fms-python.vscode-pylance-2024.6.1%2Fdist%2Ftypeshed-fallback%2Fstdlib%2Fbuiltins.pyi%22%2C%22path%22%3A%22%2FUsers%2Fwangjue%2F.vscode%2Fextensions%2Fms-python.vscode-pylance-2024.6.1%2Fdist%2Ftypeshed-fallback%2Fstdlib%2Fbuiltins.pyi%22%2C%22scheme%22%3A%22file%22%7D%2C%7B%22line%22%3A1506%2C%22character%22%3A4%7D%5D \"../.vscode/extensions/ms-python.vscode-pylance-2024.6.1/dist/typeshed-fallback/stdlib/builtins.pyi\")和[`iter()`](command:_github.copilot.openSymbolFromReferences?%5B%7B%22%24mid%22%3A1%2C%22external%22%3A%22file%3A%2F%2F%2FUsers%2Fwangjue%2F.vscode%2Fextensions%2Fms-python.vscode-pylance-2024.6.1%2Fdist%2Ftypeshed-fallback%2Fstdlib%2Fbuiltins.pyi%22%2C%22path%22%3A%22%2FUsers%2Fwangjue%2F.vscode%2Fextensions%2Fms-python.vscode-pylance-2024.6.1%2Fdist%2Ftypeshed-fallback%2Fstdlib%2Fbuiltins.pyi%22%2C%22scheme%22%3A%22file%22%7D%2C%7B%22line%22%3A1411%2C%22character%22%3A4%7D%5D \"../.vscode/extensions/ms-python.vscode-pylance-2024.6.1/dist/typeshed-fallback/stdlib/builtins.pyi\")来处理名为[`data_iter`](command:_github.copilot.openSymbolFromReferences?%5B%7B%22%24mid%22%3A1%2C%22fsPath%22%3A%22%2FUsers%2Fwangjue%2F%E6%8E%A8%E8%8D%90%E7%AE%97%E6%B3%95%2Fpytorch%2F01-3-%E7%BA%BF%E6%80%A7%E7%A5%9E%E7%BB%8F%E7%BD%91%E7%BB%9C-%E7%BA%BF%E6%80%A7%E5%9B%9E%E5%BD%92%E7%AE%80%E6%B4%81%E5%AE%9E%E7%8E%B0.ipynb%22%2C%22path%22%3A%22%2FUsers%2Fwangjue%2F%E6%8E%A8%E8%8D%90%E7%AE%97%E6%B3%95%2Fpytorch%2F01-3-%E7%BA%BF%E6%80%A7%E7%A5%9E%E7%BB%8F%E7%BD%91%E7%BB%9C-%E7%BA%BF%E6%80%A7%E5%9B%9E%E5%BD%92%E7%AE%80%E6%B4%81%E5%AE%9E%E7%8E%B0.ipynb%22%2C%22scheme%22%3A%22vscode-notebook-cell%22%2C%22fragment%22%3A%22W4sZmlsZQ%3D%3D%22%7D%2C%7B%22line%22%3A7%2C%22character%22%3A0%7D%5D \"/Users/wangjue/推荐算法/pytorch/01-3-线性神经网络-线性回归简洁实现.ipynb\")的迭代器对象。\n",
    "\n",
    "[`next()`](command:_github.copilot.openSymbolFromReferences?%5B%7B%22%24mid%22%3A1%2C%22external%22%3A%22file%3A%2F%2F%2FUsers%2Fwangjue%2F.vscode%2Fextensions%2Fms-python.vscode-pylance-2024.6.1%2Fdist%2Ftypeshed-fallback%2Fstdlib%2Fbuiltins.pyi%22%2C%22path%22%3A%22%2FUsers%2Fwangjue%2F.vscode%2Fextensions%2Fms-python.vscode-pylance-2024.6.1%2Fdist%2Ftypeshed-fallback%2Fstdlib%2Fbuiltins.pyi%22%2C%22scheme%22%3A%22file%22%7D%2C%7B%22line%22%3A1506%2C%22character%22%3A4%7D%5D \"../.vscode/extensions/ms-python.vscode-pylance-2024.6.1/dist/typeshed-fallback/stdlib/builtins.pyi\")函数用于获取迭代器的下一个元素。在这里，[`next(iter(data_iter))`](command:_github.copilot.openSymbolFromReferences?%5B%7B%22%24mid%22%3A1%2C%22external%22%3A%22file%3A%2F%2F%2FUsers%2Fwangjue%2F.vscode%2Fextensions%2Fms-python.vscode-pylance-2024.6.1%2Fdist%2Ftypeshed-fallback%2Fstdlib%2Fbuiltins.pyi%22%2C%22path%22%3A%22%2FUsers%2Fwangjue%2F.vscode%2Fextensions%2Fms-python.vscode-pylance-2024.6.1%2Fdist%2Ftypeshed-fallback%2Fstdlib%2Fbuiltins.pyi%22%2C%22scheme%22%3A%22file%22%7D%2C%7B%22line%22%3A1506%2C%22character%22%3A4%7D%5D \"../.vscode/extensions/ms-python.vscode-pylance-2024.6.1/dist/typeshed-fallback/stdlib/builtins.pyi\")的作用是获取[`data_iter`](command:_github.copilot.openSymbolFromReferences?%5B%7B%22%24mid%22%3A1%2C%22fsPath%22%3A%22%2FUsers%2Fwangjue%2F%E6%8E%A8%E8%8D%90%E7%AE%97%E6%B3%95%2Fpytorch%2F01-3-%E7%BA%BF%E6%80%A7%E7%A5%9E%E7%BB%8F%E7%BD%91%E7%BB%9C-%E7%BA%BF%E6%80%A7%E5%9B%9E%E5%BD%92%E7%AE%80%E6%B4%81%E5%AE%9E%E7%8E%B0.ipynb%22%2C%22path%22%3A%22%2FUsers%2Fwangjue%2F%E6%8E%A8%E8%8D%90%E7%AE%97%E6%B3%95%2Fpytorch%2F01-3-%E7%BA%BF%E6%80%A7%E7%A5%9E%E7%BB%8F%E7%BD%91%E7%BB%9C-%E7%BA%BF%E6%80%A7%E5%9B%9E%E5%BD%92%E7%AE%80%E6%B4%81%E5%AE%9E%E7%8E%B0.ipynb%22%2C%22scheme%22%3A%22vscode-notebook-cell%22%2C%22fragment%22%3A%22W4sZmlsZQ%3D%3D%22%7D%2C%7B%22line%22%3A7%2C%22character%22%3A0%7D%5D \"/Users/wangjue/推荐算法/pytorch/01-3-线性神经网络-线性回归简洁实现.ipynb\")迭代器的第一个元素。\n",
    "\n",
    "[`iter()`](command:_github.copilot.openSymbolFromReferences?%5B%7B%22%24mid%22%3A1%2C%22external%22%3A%22file%3A%2F%2F%2FUsers%2Fwangjue%2F.vscode%2Fextensions%2Fms-python.vscode-pylance-2024.6.1%2Fdist%2Ftypeshed-fallback%2Fstdlib%2Fbuiltins.pyi%22%2C%22path%22%3A%22%2FUsers%2Fwangjue%2F.vscode%2Fextensions%2Fms-python.vscode-pylance-2024.6.1%2Fdist%2Ftypeshed-fallback%2Fstdlib%2Fbuiltins.pyi%22%2C%22scheme%22%3A%22file%22%7D%2C%7B%22line%22%3A1411%2C%22character%22%3A4%7D%5D \"../.vscode/extensions/ms-python.vscode-pylance-2024.6.1/dist/typeshed-fallback/stdlib/builtins.pyi\")函数用于将一个可迭代对象转换为迭代器。在这里，[`iter(data_iter)`](command:_github.copilot.openSymbolFromReferences?%5B%7B%22%24mid%22%3A1%2C%22external%22%3A%22file%3A%2F%2F%2FUsers%2Fwangjue%2F.vscode%2Fextensions%2Fms-python.vscode-pylance-2024.6.1%2Fdist%2Ftypeshed-fallback%2Fstdlib%2Fbuiltins.pyi%22%2C%22path%22%3A%22%2FUsers%2Fwangjue%2F.vscode%2Fextensions%2Fms-python.vscode-pylance-2024.6.1%2Fdist%2Ftypeshed-fallback%2Fstdlib%2Fbuiltins.pyi%22%2C%22scheme%22%3A%22file%22%7D%2C%7B%22line%22%3A1411%2C%22character%22%3A4%7D%5D \"../.vscode/extensions/ms-python.vscode-pylance-2024.6.1/dist/typeshed-fallback/stdlib/builtins.pyi\")将[`data_iter`](command:_github.copilot.openSymbolFromReferences?%5B%7B%22%24mid%22%3A1%2C%22fsPath%22%3A%22%2FUsers%2Fwangjue%2F%E6%8E%A8%E8%8D%90%E7%AE%97%E6%B3%95%2Fpytorch%2F01-3-%E7%BA%BF%E6%80%A7%E7%A5%9E%E7%BB%8F%E7%BD%91%E7%BB%9C-%E7%BA%BF%E6%80%A7%E5%9B%9E%E5%BD%92%E7%AE%80%E6%B4%81%E5%AE%9E%E7%8E%B0.ipynb%22%2C%22path%22%3A%22%2FUsers%2Fwangjue%2F%E6%8E%A8%E8%8D%90%E7%AE%97%E6%B3%95%2Fpytorch%2F01-3-%E7%BA%BF%E6%80%A7%E7%A5%9E%E7%BB%8F%E7%BD%91%E7%BB%9C-%E7%BA%BF%E6%80%A7%E5%9B%9E%E5%BD%92%E7%AE%80%E6%B4%81%E5%AE%9E%E7%8E%B0.ipynb%22%2C%22scheme%22%3A%22vscode-notebook-cell%22%2C%22fragment%22%3A%22W4sZmlsZQ%3D%3D%22%7D%2C%7B%22line%22%3A7%2C%22character%22%3A0%7D%5D \"/Users/wangjue/推荐算法/pytorch/01-3-线性神经网络-线性回归简洁实现.ipynb\")转换为一个迭代器对象，然后[`next()`](command:_github.copilot.openSymbolFromReferences?%5B%7B%22%24mid%22%3A1%2C%22external%22%3A%22file%3A%2F%2F%2FUsers%2Fwangjue%2F.vscode%2Fextensions%2Fms-python.vscode-pylance-2024.6.1%2Fdist%2Ftypeshed-fallback%2Fstdlib%2Fbuiltins.pyi%22%2C%22path%22%3A%22%2FUsers%2Fwangjue%2F.vscode%2Fextensions%2Fms-python.vscode-pylance-2024.6.1%2Fdist%2Ftypeshed-fallback%2Fstdlib%2Fbuiltins.pyi%22%2C%22scheme%22%3A%22file%22%7D%2C%7B%22line%22%3A1506%2C%22character%22%3A4%7D%5D \"../.vscode/extensions/ms-python.vscode-pylance-2024.6.1/dist/typeshed-fallback/stdlib/builtins.pyi\")函数获取该迭代器的第一个元素。\n",
    "\n",
    "这段代码的目的可能是为了检查[`data_iter`](command:_github.copilot.openSymbolFromReferences?%5B%7B%22%24mid%22%3A1%2C%22fsPath%22%3A%22%2FUsers%2Fwangjue%2F%E6%8E%A8%E8%8D%90%E7%AE%97%E6%B3%95%2Fpytorch%2F01-3-%E7%BA%BF%E6%80%A7%E7%A5%9E%E7%BB%8F%E7%BD%91%E7%BB%9C-%E7%BA%BF%E6%80%A7%E5%9B%9E%E5%BD%92%E7%AE%80%E6%B4%81%E5%AE%9E%E7%8E%B0.ipynb%22%2C%22path%22%3A%22%2FUsers%2Fwangjue%2F%E6%8E%A8%E8%8D%90%E7%AE%97%E6%B3%95%2Fpytorch%2F01-3-%E7%BA%BF%E6%80%A7%E7%A5%9E%E7%BB%8F%E7%BD%91%E7%BB%9C-%E7%BA%BF%E6%80%A7%E5%9B%9E%E5%BD%92%E7%AE%80%E6%B4%81%E5%AE%9E%E7%8E%B0.ipynb%22%2C%22scheme%22%3A%22vscode-notebook-cell%22%2C%22fragment%22%3A%22W4sZmlsZQ%3D%3D%22%7D%2C%7B%22line%22%3A7%2C%22character%22%3A0%7D%5D \"/Users/wangjue/推荐算法/pytorch/01-3-线性神经网络-线性回归简洁实现.ipynb\")迭代器的第一个元素是什么。"
   ]
  },
  {
   "cell_type": "markdown",
   "metadata": {},
   "source": [
    "定义模型"
   ]
  },
  {
   "cell_type": "code",
   "execution_count": 5,
   "metadata": {},
   "outputs": [],
   "source": [
    "from torch import nn\n",
    "net = nn.Sequential(nn.Linear(2, 1))"
   ]
  },
  {
   "cell_type": "code",
   "execution_count": 6,
   "metadata": {},
   "outputs": [
    {
     "data": {
      "text/plain": [
       "tensor([0.])"
      ]
     },
     "execution_count": 6,
     "metadata": {},
     "output_type": "execute_result"
    }
   ],
   "source": [
    "#初始化模型参数\n",
    "net[0].weight.data.normal_(0, 0.01)\n",
    "net[0].bias.data.fill_(0)"
   ]
  },
  {
   "cell_type": "code",
   "execution_count": 7,
   "metadata": {},
   "outputs": [],
   "source": [
    "#定义损失函数\n",
    "loss = nn.MSELoss()"
   ]
  },
  {
   "cell_type": "code",
   "execution_count": 8,
   "metadata": {},
   "outputs": [],
   "source": [
    "#定义优化算法\n",
    "trainer = torch.optim.SGD(net.parameters(), lr=0.03)"
   ]
  },
  {
   "cell_type": "code",
   "execution_count": 9,
   "metadata": {},
   "outputs": [
    {
     "name": "stdout",
     "output_type": "stream",
     "text": [
      "epoch 1, loss 0.000313\n",
      "epoch 2, loss 0.000096\n",
      "epoch 3, loss 0.000096\n"
     ]
    }
   ],
   "source": [
    "#训练\n",
    "num_epochs = 3\n",
    "for epoch in range(num_epochs):\n",
    "    for X, y in data_iter:\n",
    "        l = loss(net(X), y)\n",
    "        trainer.zero_grad()\n",
    "        l.backward()\n",
    "        trainer.step()\n",
    "    l = loss(net(features), labels)\n",
    "    print(f'epoch {epoch + 1}, loss {l:f}')"
   ]
  },
  {
   "cell_type": "code",
   "execution_count": 10,
   "metadata": {},
   "outputs": [
    {
     "name": "stdout",
     "output_type": "stream",
     "text": [
      "error in estimating w: tensor([-0.0012, -0.0002])\n",
      "error in estimating b: tensor([-0.0003])\n"
     ]
    }
   ],
   "source": [
    "w = net[0].weight.data\n",
    "print('error in estimating w:', true_w - w.reshape(true_w.shape))\n",
    "b = net[0].bias.data\n",
    "print('error in estimating b:', true_b - b)"
   ]
  },
  {
   "cell_type": "code",
   "execution_count": null,
   "metadata": {},
   "outputs": [],
   "source": []
  }
 ],
 "metadata": {
  "kernelspec": {
   "display_name": "pytorch",
   "language": "python",
   "name": "python3"
  },
  "language_info": {
   "codemirror_mode": {
    "name": "ipython",
    "version": 3
   },
   "file_extension": ".py",
   "mimetype": "text/x-python",
   "name": "python",
   "nbconvert_exporter": "python",
   "pygments_lexer": "ipython3",
   "version": "3.1.-1"
  }
 },
 "nbformat": 4,
 "nbformat_minor": 2
}
